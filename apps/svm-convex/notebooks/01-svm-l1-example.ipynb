{
 "cells": [
  {
   "cell_type": "markdown",
   "id": "d1ca05d0-ae56-4fac-9b24-89029fe37450",
   "metadata": {},
   "source": [
    "# Support vector machine example from cvxpy examples"
   ]
  },
  {
   "cell_type": "code",
   "execution_count": 1,
   "id": "78786c27-786c-4978-a7ee-f6a4b486c337",
   "metadata": {},
   "outputs": [],
   "source": [
    "import numpy as np\n",
    "\n",
    "np.random.seed(1)\n",
    "n = 20\n",
    "m = 1000\n",
    "TEST = m\n",
    "DENSITY = 0.2\n",
    "beta_true = np.random.randn(n,1)\n",
    "idxs = np.random.choice(range(n), int((1-DENSITY)*n), replace=False)\n",
    "for idx in idxs:\n",
    "    beta_true[idx] = 0\n",
    "offset = 0\n",
    "\n",
    "sigma = 45\n",
    "X = np.random.normal(0, 5, size=(m,n))\n",
    "Y = np.sign(X.dot(beta_true) + offset + np.random.normal(0,sigma,size=(m,1)))\n",
    "X_test = np.random.normal(0, 5, size=(TEST,n))\n",
    "Y_test = np.sign(X_test.dot(beta_true) + offset + np.random.normal(0,sigma,size=(TEST,1)))"
   ]
  },
  {
   "cell_type": "markdown",
   "id": "0646d86a-ee79-4793-bb00-7ce3ed0905da",
   "metadata": {},
   "source": [
    "## solving the problem with cvxpy\n",
    "\n",
    "https://www.cvxpy.org/examples/machine_learning/svm.html"
   ]
  },
  {
   "cell_type": "markdown",
   "id": "fd33012d-8540-44a4-8dcb-a0c10d454f27",
   "metadata": {},
   "source": [
    "$$f(\\beta,v) = \\frac{1}{m}\\sum_{i}(1 - y_i(\\beta^Tx_i-v))_+ + \\lambda\\|\\beta\\|_1$$"
   ]
  },
  {
   "cell_type": "code",
   "execution_count": 2,
   "id": "ac7e0220-06b5-43b6-8f9c-f43d9969f70e",
   "metadata": {},
   "outputs": [],
   "source": [
    "# Form SVM with L1 regularization problem.\n",
    "import cvxpy as cp\n",
    "beta = cp.Variable((n,1))\n",
    "v = cp.Variable()\n",
    "loss = cp.sum(cp.pos(1 - cp.multiply(Y, X @ beta - v)))\n",
    "reg = cp.norm(beta, 1)\n",
    "lambd = cp.Parameter(nonneg=True)\n",
    "prob = cp.Problem(cp.Minimize(loss/m + lambd*reg))"
   ]
  },
  {
   "cell_type": "code",
   "execution_count": 3,
   "id": "3847d93c-b103-4b5d-9049-5b03698aad1a",
   "metadata": {},
   "outputs": [],
   "source": [
    "# Compute a trade-off curve and record train and test error.\n",
    "TRIALS = 100\n",
    "train_error = np.zeros(TRIALS)\n",
    "test_error = np.zeros(TRIALS)\n",
    "lambda_vals = np.logspace(-2, 0, TRIALS)\n",
    "beta_vals = []\n",
    "for i in range(TRIALS):\n",
    "    lambd.value = lambda_vals[i]\n",
    "    prob.solve()\n",
    "    train_error[i] = (np.sign(X.dot(beta_true) + offset) != np.sign(X.dot(beta.value) - v.value)).sum()/m\n",
    "    test_error[i] = (np.sign(X_test.dot(beta_true) + offset) != np.sign(X_test.dot(beta.value) - v.value)).sum()/TEST\n",
    "    beta_vals.append(beta.value)"
   ]
  },
  {
   "cell_type": "code",
   "execution_count": 4,
   "id": "7c789992-350b-41b4-bece-bb3f6e50d340",
   "metadata": {},
   "outputs": [
    {
     "data": {
      "image/png": "[encoded data removed]",
      "text/plain": [
       "<Figure size 432x288 with 1 Axes>"
      ]
     },
     "metadata": {
      "needs_background": "light"
     },
     "output_type": "display_data"
    }
   ],
   "source": [
    "import matplotlib.pyplot as plt\n",
    "\n",
    "plt.plot(lambda_vals, train_error, label=\"Train error\")\n",
    "plt.plot(lambda_vals, test_error, label=\"Test error\")\n",
    "plt.xscale('log')\n",
    "plt.legend(loc='upper left')\n",
    "plt.xlabel(r\"$\\lambda$\", fontsize=16)\n",
    "plt.show()"
   ]
  },
  {
   "cell_type": "markdown",
   "id": "570dc7ee-70af-4763-aa49-211b0f4bc79a",
   "metadata": {},
   "source": [
    "## solving the problem with admm\n",
    "\n",
    "$$ \n",
    "\\textrm{minimize} \\quad \\frac{1}{2}\\|w\\|_2^2 + \\lambda \\sum h_j(w, b)\n",
    "$$\n",
    "\n",
    "Given an optimization term with N terms in the objective, it can be converted int a consensus form.\n",
    "\n",
    "$$\n",
    "\\begin{equation}\n",
    "\\begin{aligned}\n",
    "\\textrm{minimize} \\quad & \\sum_{i=1}^N f_i(x_i) \\\\\n",
    "\\textrm{subject to} \\quad & x_i = z\\\\\n",
    "\\end{aligned}\n",
    "\\end{equation}\n",
    "$$\n",
    "\n",
    "$z$ is a global variable that enforces consistency across the different workerse.\n",
    "\n",
    "Implement a distributed SVM.\n",
    "\n",
    "* https://web.stanford.edu/~boyd/papers/admm/svm/linear_svm.html\n",
    "* https://www.cvxpy.org/examples/applications/consensus_opt.html?highlight=admm\n",
    "* https://github.com/cvxpy/cvxpy/blob/master/examples/admm_svm_procs.py"
   ]
  },
  {
   "cell_type": "code",
   "execution_count": null,
   "id": "5bd93ba7-ce66-4c3b-b5d4-7a8f7bf4bf96",
   "metadata": {},
   "outputs": [],
   "source": [
    "from multiprocessing import Process, Pipe\n",
    "\n",
    "NUM_PROCS = 8\n",
    "SPLIT_SIZE = X.shape[0]//NUM_PROCS\n",
    "MAX_ITER = 10\n",
    "\n",
    "data_splits = [\n",
    "    (Y[i:i+SPLIT_SIZE].reshape(-1), X[i:i+SPLIT_SIZE]) \n",
    "    for i in range(0, X.shape[0], SPLIT_SIZE)\n",
    "]\n",
    "\n",
    "rho = 1.0\n",
    "beta = cp.Variable(n)\n",
    "v = cp.Variable()\n",
    "lambd = cp.Parameter(nonneg=True)\n",
    "f_list = []\n",
    "\n",
    "# setting up the problem requires keeping in memory at least the size\n",
    "# of the original data\n",
    "for b, a in data_splits:\n",
    "    loss = cp.sum(cp.pos(1 - cp.multiply(b, (a @ beta - v))))\n",
    "    reg = cp.norm(beta, 1)\n",
    "    # NOTE in the original formulation, there is no regularization parameter\n",
    "    f_list.append(loss/m + lambd*reg)\n",
    "\n",
    "def run_process(f, pipe):\n",
    "    xbar = cp.Parameter(n, value=np.zeros(n))\n",
    "    u = cp.Parameter(n, value=np.zeros(n))\n",
    "    f += (rho/2)*cp.sum_squares(beta - xbar + u)\n",
    "    prox = cp.Problem(cp.Minimize(f))\n",
    "    # ADMM loop.\n",
    "    while True:\n",
    "        prox.solve()\n",
    "        pipe.send(x.value)\n",
    "        xbar.value = pipe.recv()\n",
    "        u.value += x.value - xbar.value"
   ]
  },
  {
   "cell_type": "markdown",
   "id": "a2b52e14-9b7a-4e9c-aa65-2a73b9598ba0",
   "metadata": {},
   "source": [
    "```python\n",
    "# Setup the workers.\n",
    "pipes = []\n",
    "procs = []\n",
    "for i in range(NUM_PROCS):\n",
    "    local, remote = Pipe()\n",
    "    pipes += [local]\n",
    "    procs += [Process(target=run_process, args=(f_list[i], remote))]\n",
    "    procs[-1].start()\n",
    "\n",
    "# ADMM loop.\n",
    "for i in range(MAX_ITER):\n",
    "    # Gather and average xi\n",
    "    xbar = sum(pipe.recv() for pipe in pipes)/N\n",
    "    # Scatter xbar\n",
    "    for pipe in pipes:\n",
    "        pipe.send(xbar)\n",
    "\n",
    "[p.terminate() for p in procs]\n",
    "```\n",
    "\n",
    "And, well, multiprocessing stuff doesn't work in notebooks like usual."
   ]
  },
  {
   "cell_type": "markdown",
   "id": "c65f43d8-a8c0-411d-a47f-6558b7051318",
   "metadata": {},
   "source": [
    "## solving the problem with osqp\n",
    "\n",
    "https://osqp.org/docs/examples/svm.html\n",
    "\n",
    "This might be interesting if we can mix and match problems..."
   ]
  },
  {
   "cell_type": "code",
   "execution_count": null,
   "id": "5c73d082-0ce9-46c7-b686-b74c0a5f3a4c",
   "metadata": {},
   "outputs": [],
   "source": []
  }
 ],
 "metadata": {
  "kernelspec": {
   "display_name": "Python 3 (ipykernel)",
   "language": "python",
   "name": "python3"
  },
  "language_info": {
   "codemirror_mode": {
    "name": "ipython",
    "version": 3
   },
   "file_extension": ".py",
   "mimetype": "text/x-python",
   "name": "python",
   "nbconvert_exporter": "python",
   "pygments_lexer": "ipython3",
   "version": "3.8.9"
  }
 },
 "nbformat": 4,
 "nbformat_minor": 5
}
